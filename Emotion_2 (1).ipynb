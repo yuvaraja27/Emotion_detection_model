{
  "nbformat": 4,
  "nbformat_minor": 0,
  "metadata": {
    "colab": {
      "name": "Emotion_2.ipynb",
      "provenance": [],
      "collapsed_sections": []
    },
    "kernelspec": {
      "name": "python3",
      "display_name": "Python 3"
    },
    "language_info": {
      "name": "python"
    },
    "accelerator": "GPU"
  },
  "cells": [
    {
      "cell_type": "markdown",
      "metadata": {
        "id": "bJ0z0HuhkpNJ"
      },
      "source": [
        "### **Importing libraries**"
      ]
    },
    {
      "cell_type": "code",
      "metadata": {
        "id": "OJTXQOtPsPbH"
      },
      "source": [
        "\n",
        "\n",
        "import pandas as pd\n",
        "import numpy as np\n",
        "import matplotlib.pyplot as plt\n",
        "import tensorflow\n",
        "from keras.models import Sequential, load_model\n",
        "from keras.layers.core import Flatten, Dense, Dropout\n",
        "from keras.layers.convolutional import Convolution2D, MaxPooling2D, ZeroPadding2D\n",
        "from tensorflow.keras.optimizers import SGD\n",
        "from keras.utils import np_utils\n",
        "import cv2"
      ],
      "execution_count": null,
      "outputs": []
    },
    {
      "cell_type": "markdown",
      "metadata": {
        "id": "lmtjL1DBkvLh"
      },
      "source": [
        "### **Drive Files**"
      ]
    },
    {
      "cell_type": "code",
      "metadata": {
        "id": "C_F6bcQWBAeI",
        "colab": {
          "base_uri": "https://localhost:8080/"
        },
        "outputId": "cc07a334-bd76-4a52-dca5-938738608418"
      },
      "source": [
        "from google.colab import drive\n",
        "drive.mount('/content/drive')"
      ],
      "execution_count": null,
      "outputs": [
        {
          "output_type": "stream",
          "name": "stdout",
          "text": [
            "Mounted at /content/drive\n"
          ]
        }
      ]
    },
    {
      "cell_type": "code",
      "metadata": {
        "colab": {
          "base_uri": "https://localhost:8080/"
        },
        "id": "NdjwqbRzN8sj",
        "outputId": "11e37acf-453e-445c-9810-d3924bd0fc8a"
      },
      "source": [
        "!unzip drive/MyDrive/fer2013.csv.zip"
      ],
      "execution_count": null,
      "outputs": [
        {
          "output_type": "stream",
          "name": "stdout",
          "text": [
            "Archive:  drive/MyDrive/fer2013.csv.zip\n",
            "  inflating: fer2013.csv             \n"
          ]
        }
      ]
    },
    {
      "cell_type": "markdown",
      "metadata": {
        "id": "F8v3QjTJk0KU"
      },
      "source": [
        "### **Loading the dataset**"
      ]
    },
    {
      "cell_type": "code",
      "metadata": {
        "colab": {
          "base_uri": "https://localhost:8080/"
        },
        "id": "CKvhDkFgu4PN",
        "outputId": "da867160-e4c2-4ff0-a27c-35877452b6bf"
      },
      "source": [
        "emotion_data = pd.read_csv('/content/fer2013.csv')\n",
        "print(emotion_data)"
      ],
      "execution_count": null,
      "outputs": [
        {
          "output_type": "stream",
          "name": "stdout",
          "text": [
            "       emotion                                             pixels        Usage\n",
            "0            0  70 80 82 72 58 58 60 63 54 58 60 48 89 115 121...     Training\n",
            "1            0  151 150 147 155 148 133 111 140 170 174 182 15...     Training\n",
            "2            2  231 212 156 164 174 138 161 173 182 200 106 38...     Training\n",
            "3            4  24 32 36 30 32 23 19 20 30 41 21 22 32 34 21 1...     Training\n",
            "4            6  4 0 0 0 0 0 0 0 0 0 0 0 3 15 23 28 48 50 58 84...     Training\n",
            "...        ...                                                ...          ...\n",
            "35882        6  50 36 17 22 23 29 33 39 34 37 37 37 39 43 48 5...  PrivateTest\n",
            "35883        3  178 174 172 173 181 188 191 194 196 199 200 20...  PrivateTest\n",
            "35884        0  17 17 16 23 28 22 19 17 25 26 20 24 31 19 27 9...  PrivateTest\n",
            "35885        3  30 28 28 29 31 30 42 68 79 81 77 67 67 71 63 6...  PrivateTest\n",
            "35886        2  19 13 14 12 13 16 21 33 50 57 71 84 97 108 122...  PrivateTest\n",
            "\n",
            "[35887 rows x 3 columns]\n"
          ]
        }
      ]
    },
    {
      "cell_type": "markdown",
      "metadata": {
        "id": "jQhpK9Rtk6uZ"
      },
      "source": [
        "### **Dividing Test and Train data**"
      ]
    },
    {
      "cell_type": "code",
      "metadata": {
        "id": "OpG1egy8vBBi"
      },
      "source": [
        "X_train = []\n",
        "y_train = []\n",
        "X_test = []\n",
        "y_test = []\n",
        "for index, row in emotion_data.iterrows():\n",
        "    k = list(map(int, row['pixels'].split(\" \")))\n",
        "    if row['Usage'] == 'Training':\n",
        "        X_train.append(np.array(k))\n",
        "        y_train.append(row['emotion'])\n",
        "    elif row['Usage'] == 'PublicTest':\n",
        "        X_test.append(np.array(k))\n",
        "        y_test.append(row['emotion'])"
      ],
      "execution_count": null,
      "outputs": []
    },
    {
      "cell_type": "code",
      "metadata": {
        "id": "yoRO0F3PvTYi"
      },
      "source": [
        "X_train = np.array(X_train)\n",
        "y_train = np.array(y_train)\n",
        "X_test = np.array(X_test)\n",
        "y_test = np.array(y_test)\n",
        "\n",
        "X_train = X_train.reshape(X_train.shape[0], 48, 48, 1)\n",
        "X_test = X_test.reshape(X_test.shape[0], 48, 48, 1)\n",
        "\n",
        "y_train= np_utils.to_categorical(y_train, num_classes=7)\n",
        "y_test = np_utils.to_categorical(y_test, num_classes=7)"
      ],
      "execution_count": null,
      "outputs": []
    },
    {
      "cell_type": "code",
      "metadata": {
        "id": "UkEdr66Mvdmy",
        "colab": {
          "base_uri": "https://localhost:8080/",
          "height": 234
        },
        "outputId": "b764c0bb-a8a9-4a33-8e94-60e430ff71bf"
      },
      "source": [
        "model = Sequential()\n",
        "\n",
        "#1st Convolutional layer\n",
        "model.add(Convolution2D(64, 3, 3, activation='relu'))\n",
        "model.add(Convolution2D(64, 3, 3, activation='relu'))\n",
        "model.add(MaxPooling2D((2,2), strides=(2,2)))\n",
        "\n",
        "#2nd Convolutional layer\n",
        "model.add(Convolution2D(128, 3, 3, activation='relu'))\n",
        "model.add(Convolution2D(128, 3, 3, activation='relu'))\n",
        "model.add(MaxPooling2D(pool_size=(1,1), strides=(2,2)))\n",
        "\n",
        "#3rd Convolutional layer\n",
        "model.add(Convolution2D(256, 3, 3, activation='relu'))\n",
        "model.add(Convolution2D(256, 3, 3, activation='relu'))\n",
        "model.add(Convolution2D(256, 3, 3, activation='relu'))\n",
        "model.add(MaxPooling2D((1,1), strides=(2,2)))\n",
        "\n",
        "#4th Convolutional layer\n",
        "model.add(Convolution2D(512, 3, 3, activation='relu'))\n",
        "model.add(Convolution2D(512, 3, 3, activation='relu'))\n",
        "model.add(Convolution2D(512, 3, 3, activation='relu'))\n",
        "model.add(MaxPooling2D((1,1), strides=(2,2)))\n",
        "\n",
        "\n",
        "model.add(Flatten())\n",
        "\n",
        "#Fu\n",
        "model.add(Dense(4096, activation='relu'))\n",
        "model.add(Dropout(0.5))\n",
        "model.add(Dense(4096, activation='relu'))\n",
        "model.add(Dropout(0.5))\n",
        "model.add(Dense(7, activation='softmax'))"
      ],
      "execution_count": null,
      "outputs": [
        {
          "output_type": "error",
          "ename": "AttributeError",
          "evalue": "ignored",
          "traceback": [
            "\u001b[0;31m---------------------------------------------------------------------------\u001b[0m",
            "\u001b[0;31mAttributeError\u001b[0m                            Traceback (most recent call last)",
            "\u001b[0;32m<ipython-input-120-55570bb2e655>\u001b[0m in \u001b[0;36m<module>\u001b[0;34m()\u001b[0m\n\u001b[1;32m      1\u001b[0m \u001b[0mmodel\u001b[0m \u001b[0;34m=\u001b[0m \u001b[0mSequential\u001b[0m\u001b[0;34m(\u001b[0m\u001b[0;34m)\u001b[0m\u001b[0;34m\u001b[0m\u001b[0;34m\u001b[0m\u001b[0m\n\u001b[0;32m----> 2\u001b[0;31m \u001b[0mmodel\u001b[0m\u001b[0;34m.\u001b[0m\u001b[0mad\u001b[0m\u001b[0;34m\u001b[0m\u001b[0;34m\u001b[0m\u001b[0m\n\u001b[0m\u001b[1;32m      3\u001b[0m \u001b[0mmodel\u001b[0m\u001b[0;34m.\u001b[0m\u001b[0madd\u001b[0m\u001b[0;34m(\u001b[0m\u001b[0mConvolution2D\u001b[0m\u001b[0;34m(\u001b[0m\u001b[0;36m64\u001b[0m\u001b[0;34m,\u001b[0m \u001b[0;36m3\u001b[0m\u001b[0;34m,\u001b[0m \u001b[0;36m3\u001b[0m\u001b[0;34m,\u001b[0m \u001b[0mactivation\u001b[0m\u001b[0;34m=\u001b[0m\u001b[0;34m'relu'\u001b[0m\u001b[0;34m)\u001b[0m\u001b[0;34m)\u001b[0m\u001b[0;34m\u001b[0m\u001b[0;34m\u001b[0m\u001b[0m\n\u001b[1;32m      4\u001b[0m \u001b[0mmodel\u001b[0m\u001b[0;34m.\u001b[0m\u001b[0madd\u001b[0m\u001b[0;34m(\u001b[0m\u001b[0mZeroPadding2D\u001b[0m\u001b[0;34m(\u001b[0m\u001b[0;34m(\u001b[0m\u001b[0;36m1\u001b[0m\u001b[0;34m,\u001b[0m\u001b[0;36m1\u001b[0m\u001b[0;34m)\u001b[0m\u001b[0;34m)\u001b[0m\u001b[0;34m)\u001b[0m\u001b[0;34m\u001b[0m\u001b[0;34m\u001b[0m\u001b[0m\n\u001b[1;32m      5\u001b[0m \u001b[0mmodel\u001b[0m\u001b[0;34m.\u001b[0m\u001b[0madd\u001b[0m\u001b[0;34m(\u001b[0m\u001b[0mConvolution2D\u001b[0m\u001b[0;34m(\u001b[0m\u001b[0;36m64\u001b[0m\u001b[0;34m,\u001b[0m \u001b[0;36m3\u001b[0m\u001b[0;34m,\u001b[0m \u001b[0;36m3\u001b[0m\u001b[0;34m,\u001b[0m \u001b[0mactivation\u001b[0m\u001b[0;34m=\u001b[0m\u001b[0;34m'relu'\u001b[0m\u001b[0;34m)\u001b[0m\u001b[0;34m)\u001b[0m\u001b[0;34m\u001b[0m\u001b[0;34m\u001b[0m\u001b[0m\n",
            "\u001b[0;31mAttributeError\u001b[0m: 'Sequential' object has no attribute 'ad'"
          ]
        }
      ]
    },
    {
      "cell_type": "code",
      "metadata": {
        "id": "XX-CBnmqyQps"
      },
      "source": [
        "model.compile(optimizer='sgd',loss='categorical_crossentropy',metrics=['accuracy'])"
      ],
      "execution_count": null,
      "outputs": []
    },
    {
      "cell_type": "code",
      "metadata": {
        "id": "I8b6mWEQyb9p",
        "colab": {
          "base_uri": "https://localhost:8080/"
        },
        "outputId": "56111fba-e22b-4a93-da19-fd576929c266"
      },
      "source": [
        "model.fit(X_train,y_train,batch_size=32,epochs=5,verbose=1,validation_data=(X_test, y_test))"
      ],
      "execution_count": null,
      "outputs": [
        {
          "output_type": "stream",
          "name": "stdout",
          "text": [
            "Epoch 1/5\n",
            "898/898 [==============================] - 52s 58ms/step - loss: 1.8200 - accuracy: 0.2513 - val_loss: 1.8138 - val_accuracy: 0.2494\n",
            "Epoch 2/5\n",
            "898/898 [==============================] - 51s 57ms/step - loss: 1.8114 - accuracy: 0.2513 - val_loss: 1.8128 - val_accuracy: 0.2494\n",
            "Epoch 3/5\n",
            "898/898 [==============================] - 52s 58ms/step - loss: 1.8107 - accuracy: 0.2513 - val_loss: 1.8128 - val_accuracy: 0.2494\n",
            "Epoch 4/5\n",
            "898/898 [==============================] - 52s 57ms/step - loss: 1.8103 - accuracy: 0.2513 - val_loss: 1.8109 - val_accuracy: 0.2494\n",
            "Epoch 5/5\n",
            "898/898 [==============================] - 51s 57ms/step - loss: 1.8104 - accuracy: 0.2513 - val_loss: 1.8110 - val_accuracy: 0.2494\n"
          ]
        },
        {
          "output_type": "execute_result",
          "data": {
            "text/plain": [
              "<keras.callbacks.History at 0x7f9beb573e50>"
            ]
          },
          "metadata": {},
          "execution_count": 13
        }
      ]
    },
    {
      "cell_type": "code",
      "metadata": {
        "id": "HP25VuAlyoVD",
        "colab": {
          "base_uri": "https://localhost:8080/"
        },
        "outputId": "c1a27a30-720f-4b76-9b0e-076b6f0ad367"
      },
      "source": [
        "loss_and_metrics = model.evaluate(X_test,y_test)\n",
        "print(loss_and_metrics)"
      ],
      "execution_count": null,
      "outputs": [
        {
          "output_type": "stream",
          "name": "stdout",
          "text": [
            "113/113 [==============================] - 2s 17ms/step - loss: 1.8110 - accuracy: 0.2494\n",
            "[1.8110069036483765, 0.24937307834625244]\n"
          ]
        }
      ]
    },
    {
      "cell_type": "code",
      "metadata": {
        "id": "dv-DADNlysj2",
        "colab": {
          "base_uri": "https://localhost:8080/"
        },
        "outputId": "d312da7b-2af2-4c3b-9611-946ce2d9edbf"
      },
      "source": [
        "model_json = model.to_json()\n",
        "with open(\"model.json\", \"w\") as json_file:\n",
        "  json_file.write(model_json)\n",
        "model.save_weights(\"model.h5\")\n",
        "print(\"Saved model to disk\")"
      ],
      "execution_count": null,
      "outputs": [
        {
          "output_type": "stream",
          "name": "stdout",
          "text": [
            "Saved model to disk\n"
          ]
        }
      ]
    },
    {
      "cell_type": "code",
      "metadata": {
        "id": "sMKTTIPNyxfq"
      },
      "source": [
        "import os\n",
        "import cv2\n",
        "import numpy as np\n",
        "from keras.models import model_from_json\n",
        "from keras.preprocessing import image\n",
        "from google.colab.patches import cv2_imshow"
      ],
      "execution_count": null,
      "outputs": []
    },
    {
      "cell_type": "code",
      "metadata": {
        "id": "utiwwOhbzOB3",
        "colab": {
          "base_uri": "https://localhost:8080/"
        },
        "outputId": "ba794f46-ab86-4195-bcc2-d7a945a7d83d"
      },
      "source": [
        "cap=cv2.VideoCapture(0)\n",
        "\n",
        "while cap.isOpened():\n",
        "    _, test_image=cap.read()\n",
        "    print(type(test_image))\n",
        "    print(test_image)\n",
        "    coverted_image= cv2.cvtColor(test_image, cv2.COLOR_BGR2GRAY)\n",
        "\n",
        "\n",
        "    faces_detected = face_haar_cascade.detectMultiScale(converted_image)\n",
        "    for (x,y,w,h) in faces_detected:\n",
        "      cv2.rectangle(test_image,(x,y), (x+w,y+h), (255,0,0))\n",
        "      roi_gray=gray_image[y:y+w,x:x+h]\n",
        "      roi_gray=cv2.resize(roi_gray,(48,48))\n",
        "      image_pixels = image.image_to_array(roi_gray)\n",
        "      image_pixels = np.expand_dims(image_pixels, axis = 0)\n",
        "      image_pixels /= 255\n",
        "\n",
        "\n",
        "      predictions = model.predict(image_pixels)\n",
        "      max_index = np.argmax(predictions[0])\n",
        "\n",
        "      emotion_detection = ('angry', 'disgust', 'fear', 'happy', 'sad', 'surprise', 'neutral')\n",
        "      emotion_prediction = emotion_detection[max_index]\n",
        "\n",
        "\n",
        "      \n",
        "      cv2.putText(frame,label,label_position,cv2.FONT_HERSHEY_SIMPLEX,2,(0,255,0),3)  \n",
        "      # cv2.putText(image,\"Hello World!!!\", (x,y), 0, 2, 255)\n",
        "\n",
        "cv2.putText(test_image, emotion_prediction, (int(x), int(y)))\n",
        "      resized_image = cv2.resize(image, (1000, 700))\n",
        "      cv2.imshow('Emotion',resized_image)\n",
        "      if cv2.waitKey(10) == ord('b'):\n",
        "        break\n",
        "if cap.isOpened!='True':\n",
        "  print(\"heyyy\")\n",
        "\n",
        "cap.release()\n",
        "cv2.destroyAllWindows()"
      ],
      "execution_count": null,
      "outputs": [
        {
          "output_type": "stream",
          "name": "stdout",
          "text": [
            "heyyy\n"
          ]
        }
      ]
    },
    {
      "cell_type": "code",
      "metadata": {
        "id": "dxSgHVyP19d0",
        "colab": {
          "base_uri": "https://localhost:8080/",
          "height": 284
        },
        "outputId": "4a3e14ae-e3d6-4b92-eb4a-d480f7c11009"
      },
      "source": [
        "face_image  = cv2.imread(\"/336.jpg\")\n",
        "plt.imshow(face_image)"
      ],
      "execution_count": null,
      "outputs": [
        {
          "output_type": "execute_result",
          "data": {
            "text/plain": [
              "<matplotlib.image.AxesImage at 0x7f9c611f5110>"
            ]
          },
          "metadata": {},
          "execution_count": 108
        },
        {
          "output_type": "display_data",
          "data": {
            "image/png": "[encoded data removed]",
            "text/plain": [
              "<Figure size 432x288 with 1 Axes>"
            ]
          },
          "metadata": {
            "needs_background": "light"
          }
        }
      ]
    },
    {
      "cell_type": "code",
      "metadata": {
        "colab": {
          "base_uri": "https://localhost:8080/"
        },
        "id": "rfeGXORrSK2N",
        "outputId": "e633c98e-1f13-442e-8350-85c7a01ad11f"
      },
      "source": [
        "print(face_image.shape)"
      ],
      "execution_count": null,
      "outputs": [
        {
          "output_type": "stream",
          "name": "stdout",
          "text": [
            "(48, 48, 3)\n"
          ]
        }
      ]
    },
    {
      "cell_type": "code",
      "metadata": {
        "id": "Ufu7q8pSUVXi"
      },
      "source": [
        "model = load_model(\"/content/drive/MyDrive/model.h5\")\n",
        "face_haar_cascade = cv2.CascadeClassifier('/content/drive/MyDrive/haarcascade_frontalface_default.xml')"
      ],
      "execution_count": null,
      "outputs": []
    },
    {
      "cell_type": "code",
      "metadata": {
        "id": "cIHFYOUQT6Rd"
      },
      "source": [
        "face_image = cv2.resize(face_image, (48,48))\n",
        "face_image = cv2.cvtColor(face_image, cv2.COLOR_BGR2GRAY)\n",
        "face_image = np.reshape(face_image, [1, face_image.shape[0], face_image.shape[1], 1])"
      ],
      "execution_count": null,
      "outputs": []
    },
    {
      "cell_type": "code",
      "metadata": {
        "colab": {
          "base_uri": "https://localhost:8080/"
        },
        "id": "TnKS0QIMUrun",
        "outputId": "3fdc0fde-5880-4af0-beef-621430f65c4c"
      },
      "source": [
        "print(face_image.shape)"
      ],
      "execution_count": null,
      "outputs": [
        {
          "output_type": "stream",
          "name": "stdout",
          "text": [
            "(1, 48, 48, 1)\n"
          ]
        }
      ]
    },
    {
      "cell_type": "code",
      "metadata": {
        "id": "rPeF9pi1UymJ"
      },
      "source": [
        "predicted_class = np.argmax(model.predict(face_image))"
      ],
      "execution_count": null,
      "outputs": []
    },
    {
      "cell_type": "code",
      "metadata": {
        "id": "hXvGsz_iU_GZ"
      },
      "source": [
        "label_map = dict((v,k) for k,v in emotion_dict.items()) \n",
        "predicted_label = label_map[predicted_class]"
      ],
      "execution_count": null,
      "outputs": []
    },
    {
      "cell_type": "code",
      "metadata": {
        "colab": {
          "base_uri": "https://localhost:8080/"
        },
        "id": "dJ7lh2-5VA_3",
        "outputId": "7d60610b-061d-4302-ea7e-4d9120bdcb84"
      },
      "source": [
        "print(predicted_label)"
      ],
      "execution_count": null,
      "outputs": [
        {
          "output_type": "stream",
          "name": "stdout",
          "text": [
            "Surprise\n"
          ]
        }
      ]
    }
  ]
}